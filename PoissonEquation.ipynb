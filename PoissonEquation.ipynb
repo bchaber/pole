{
 "cells": [
  {
   "cell_type": "code",
   "execution_count": 1,
   "id": "aging-excess",
   "metadata": {},
   "outputs": [],
   "source": [
    "using PyPlot\n",
    "using LinearAlgebra\n",
    "using Statistics"
   ]
  },
  {
   "cell_type": "code",
   "execution_count": 2,
   "id": "express-holly",
   "metadata": {},
   "outputs": [],
   "source": [
    "abstract type BoundaryCondition end\n",
    "\n",
    "struct PeriodicBC <: BoundaryCondition end\n",
    "\n",
    "mutable struct DirichletBC <: BoundaryCondition value :: Float64 end\n",
    "mutable struct NeumannBC   <: BoundaryCondition value :: Float64 end\n",
    "\n",
    "DirichletBC() = DirichletBC(0.0)\n",
    "NeumannBC() = NeumannBC(0.0)\n",
    "nothing"
   ]
  },
  {
   "cell_type": "code",
   "execution_count": 3,
   "id": "rotary-brisbane",
   "metadata": {},
   "outputs": [],
   "source": [
    "struct GradientOperator\n",
    "    nx :: Int64\n",
    "    δx :: Vector{Float64}\n",
    "    \n",
    "    bcs :: Dict{Symbol, BoundaryCondition}\n",
    "end\n",
    "\n",
    "calculate_gradient!(dudx, u, δx, n, boundary, bc::PeriodicBC) = begin\n",
    "    if boundary == :left  @inbounds dudx[1]   = @views (u[1] - u[n]) / (δx[1] + δx[n+1]) end\n",
    "    if boundary == :right @inbounds dudx[n+1] = @views (u[1] - u[n]) / (δx[1] + δx[n+1]) end\n",
    "end\n",
    "\n",
    "calculate_gradient!(dudx, u, δx, n, boundary, bc::DirichletBC) = begin\n",
    "    if boundary == :left  @inbounds dudx[1]   = @views (u[1] - bc.value)  / (δx[1]) end\n",
    "    if boundary == :right @inbounds dudx[n+1] = @views (bc.value - u[n]) / (δx[n+1]) end\n",
    "end\n",
    "\n",
    "calculate_gradient!(dudx, u, δx, n) = @inbounds dudx[2:n] .= @views (u[2:n] .- u[1:n-1]) ./ δx[2:n]\n",
    "\n",
    "(∇::GradientOperator)(u; result=nothing, reverse=false) = begin\n",
    "    δx = ∇.δx\n",
    "    nx = ∇.nx\n",
    "    \n",
    "    dudx = isnothing(result) ? zeros(nx + 1) : result\n",
    "    \n",
    "    calculate_gradient!(dudx, u, ∇.δx, ∇.nx)\n",
    "    for boundary in (:left, :right)\n",
    "        calculate_gradient!(dudx, u, ∇.δx, ∇.nx, boundary, ∇.bcs[boundary])\n",
    "    end\n",
    "    if reverse dudx .*= -1.0 end\n",
    "    return dudx\n",
    "end"
   ]
  },
  {
   "cell_type": "code",
   "execution_count": 4,
   "id": "cardiac-estate",
   "metadata": {},
   "outputs": [
    {
     "data": {
      "text/plain": [
       "gradient (generic function with 1 method)"
      ]
     },
     "execution_count": 4,
     "metadata": {},
     "output_type": "execute_result"
    }
   ],
   "source": [
    "struct InPlacePeriodicSolver\n",
    "    nx :: Int64\n",
    "    Δx :: Vector{Float64}\n",
    "    δx :: Vector{Float64}\n",
    "    u  :: Vector{Float64}\n",
    "    \n",
    "    tol :: Float64\n",
    "    maxiter :: Int64\n",
    "end\n",
    "\n",
    "InPlacePeriodicSolver(xf; tol=1e-15, maxiter=100) = begin\n",
    "    Δx = diff(xf)\n",
    "    nx = length(Δx)\n",
    "    xc = cumsum(Δx) .- 0.5Δx\n",
    "    δx = diff([first(xf); xc; last(xf)])\n",
    "    \n",
    "    return InPlacePeriodicSolver(nx, Δx, δx, similar(xc), tol, maxiter)\n",
    "end\n",
    "\n",
    "apply!(::InPlacePeriodicSolver, ::PeriodicBC) = nothing\n",
    "solution(ps::InPlacePeriodicSolver) = ps.u\n",
    "gradient(ps::InPlacePeriodicSolver) = GradientOperator(ps.nx, ps.δx,\n",
    "    Dict(:left => PeriodicBC(), :right => PeriodicBC()))"
   ]
  },
  {
   "cell_type": "code",
   "execution_count": 5,
   "id": "oriental-demonstration",
   "metadata": {},
   "outputs": [
    {
     "data": {
      "text/plain": [
       "solve! (generic function with 1 method)"
      ]
     },
     "execution_count": 5,
     "metadata": {},
     "output_type": "execute_result"
    }
   ],
   "source": [
    "# iterative methods\n",
    "function jacobi(x, b; K=100, ϵ=1e-10)\n",
    "    nx = length(x)\n",
    "    xi = copy(x)\n",
    "    xj = similar(x)\n",
    "    dx = similar(x)\n",
    "    \n",
    "    it = K\n",
    "    for k = 1:K\n",
    "        dx .= abs.(xi .- xj)\n",
    "        last_norm = sum(dx)\n",
    "        @inbounds xj[1] =              (xi[2]       + xi[nx]    + b[1])      / 2.0\n",
    "        @inbounds xj[2:nx-1] .= @views (xi[1:nx-2] .+ xi[3:nx] .+ b[2:nx-1])./ 2.0\n",
    "        @inbounds xj[nx]=              (xi[nx-1]    + xi[1]     + b[nx])     / 2.0\n",
    "\n",
    "        xi, xj = xj, xi\n",
    "\n",
    "        dx .= abs.(xi .- xj)\n",
    "        if abs(sum(dx) - last_norm) < ϵ\n",
    "            it = k\n",
    "            break\n",
    "        end\n",
    "    end\n",
    "    \n",
    "    x .= 0.5 .* (xi .+ xj .- mean(xi) .- mean(xj))\n",
    "    return it\n",
    "end\n",
    "\n",
    "function solve!(ps::InPlacePeriodicSolver, rhs)\n",
    "    b = rhs .* ps.Δx .^ 2 # assembled rhs\n",
    "    ps.u .= randn(ps.nx)\n",
    "    jacobi(ps.u, b; K=ps.maxiter, ϵ=ps.tol)\n",
    "end"
   ]
  },
  {
   "cell_type": "code",
   "execution_count": 110,
   "id": "painful-puzzle",
   "metadata": {},
   "outputs": [
    {
     "data": {
      "text/plain": [
       "gradient (generic function with 2 methods)"
      ]
     },
     "execution_count": 110,
     "metadata": {},
     "output_type": "execute_result"
    }
   ],
   "source": [
    "using SparseArrays\n",
    "\n",
    "struct LinearSolver\n",
    "    nx :: Int64\n",
    "    Δx :: Vector{Float64}\n",
    "    δx :: Vector{Float64}\n",
    "    \n",
    "    A :: SparseMatrixCSC{Float64, Int64}\n",
    "    b :: Vector{Float64}\n",
    "    u :: Vector{Float64}\n",
    "    \n",
    "    bcs :: Dict{Symbol, BoundaryCondition}\n",
    "end\n",
    "\n",
    "LinearSolver(xf) = begin\n",
    "    Δx = diff(xf)\n",
    "    nx = length(Δx)\n",
    "    xc = cumsum(Δx) .- 0.5Δx\n",
    "    δx = diff([first(xf); xc; last(xf)])\n",
    "    \n",
    "    A  = spdiagm(0 => 2ones(nx),\n",
    "                -1 => -ones(nx-1),\n",
    "                +1 => -ones(nx-1))\n",
    "    b  = zeros(nx)\n",
    "    return LinearSolver(nx, Δx, δx, A, b, similar(xc), Dict())\n",
    "end\n",
    "\n",
    "apply!(solver::LinearSolver, bc::PeriodicBC, boundary::Symbol) = begin\n",
    "    A, n = solver.A, solver.nx\n",
    "    if boundary == :left  A[1, n] = -1.0 end\n",
    "    if boundary == :right A[n, 1] = -1.0 end\n",
    "end\n",
    "\n",
    "apply!(solver::LinearSolver, bc::DirichletBC, boundary::Symbol) = begin\n",
    "    A, b = solver.A, solver.b\n",
    "    n, h = solver.nx, solver.δx\n",
    "    m = n -1\n",
    "    \n",
    "    if boundary == :left\n",
    "        A[1, 1]+= 6/3\n",
    "        A[1, 2]-= 1/3\n",
    "        b[1]   += 8/3 * bc.value\n",
    "    end\n",
    "    if boundary == :right\n",
    "        A[n, n]+= 6/3\n",
    "        A[n, m]-= 1/3\n",
    "        b[n]   += 8/3 * bc.value\n",
    "    end\n",
    "    \n",
    "end\n",
    "\n",
    "solution(ps::LinearSolver) = ps.u\n",
    "gradient(ps::LinearSolver) = GradientOperator(ps.nx, ps.δx, ps.bcs)"
   ]
  },
  {
   "cell_type": "code",
   "execution_count": 111,
   "id": "white-arabic",
   "metadata": {},
   "outputs": [
    {
     "data": {
      "text/plain": [
       "solve! (generic function with 2 methods)"
      ]
     },
     "execution_count": 111,
     "metadata": {},
     "output_type": "execute_result"
    }
   ],
   "source": [
    "import IterativeSolvers\n",
    "\n",
    "isperiodic(bc::PeriodicBC) = true\n",
    "isperiodic(bc) = false\n",
    "\n",
    "function solve!(ps::LinearSolver, rhs)\n",
    "    b = ps.b .+ rhs .* ps.Δx .^ 2 # assembled rhs\n",
    "    ps.u  .= rand(ps.nx)\n",
    "    IterativeSolvers.cg!(ps.u, ps.A, b)\n",
    "    if isperiodic(ps.bcs[:left]) &&\n",
    "       isperiodic(ps.bcs[:right])\n",
    "        ps.u .-= mean(ps.u)\n",
    "    end\n",
    "    return NaN\n",
    "end"
   ]
  },
  {
   "cell_type": "code",
   "execution_count": 112,
   "id": "posted-festival",
   "metadata": {},
   "outputs": [],
   "source": [
    "struct MutligridSolver end\n",
    "struct FastFourierTransformSolver end"
   ]
  },
  {
   "cell_type": "code",
   "execution_count": 144,
   "id": "narrative-ethnic",
   "metadata": {},
   "outputs": [],
   "source": [
    "xf = 0.0:0.01:1.0\n",
    "dbc = DirichletBC(-1.0)\n",
    "bc = PeriodicBC()\n",
    "ps = LinearSolver(xf)\n",
    "ps.bcs[:left]  = dbc\n",
    "ps.bcs[:right] = bc\n",
    "apply!(ps, ps.bcs[:left],  :left)\n",
    "apply!(ps, ps.bcs[:right], :right)\n",
    "xc = 0.5 .* xf[1:end-1] .+\n",
    "     0.5 .* xf[2:end]\n",
    "φref = -sin.(2π * 2xc)\n",
    "\n",
    "f(x) = (2π * 2)^2 * sin(2π * 2x)\n",
    "ρ = f.(xc)\n",
    "nothing"
   ]
  },
  {
   "cell_type": "code",
   "execution_count": 145,
   "id": "cleared-bristol",
   "metadata": {},
   "outputs": [
    {
     "data": {
      "image/png": "[encoded data removed]",
      "text/plain": [
       "Figure(PyObject <Figure size 1000x200 with 1 Axes>)"
      ]
     },
     "metadata": {},
     "output_type": "display_data"
    }
   ],
   "source": [
    "it = solve!(ps, -ρ)\n",
    "φ  = solution(ps)\n",
    "figure(figsize=(10, 2))\n",
    "title(\"Solved after $it iterations (acc=$(norm(φ - φref)))\")\n",
    "plot(xf, zero(xf), \"r.-\")\n",
    "step(xc, φ, where=\"mid\")\n",
    "plot(xc, φref, \".\")\n",
    "legend([\"grid\", \"φ\", \"φref\"]);"
   ]
  },
  {
   "cell_type": "code",
   "execution_count": 141,
   "id": "dirty-palace",
   "metadata": {
    "scrolled": true
   },
   "outputs": [
    {
     "data": {
      "image/png": "[encoded data removed]",
      "text/plain": [
       "Figure(PyObject <Figure size 1000x300 with 1 Axes>)"
      ]
     },
     "metadata": {},
     "output_type": "display_data"
    }
   ],
   "source": [
    "∇ = gradient(ps)\n",
    "E = ∇(φ)\n",
    "figure(figsize=(10, 3))\n",
    "plot(xf, zero(xf), \"r.-\")\n",
    "plot(xf, 0.05E, \"k-\")\n",
    "step(xc, φ, where=\"mid\")\n",
    "legend([\"grid\", \"E\", \"φ\"]);"
   ]
  },
  {
   "cell_type": "code",
   "execution_count": null,
   "id": "7e9a3817",
   "metadata": {},
   "outputs": [],
   "source": []
  }
 ],
 "metadata": {
  "kernelspec": {
   "display_name": "Julia 1.6.3",
   "language": "julia",
   "name": "julia-1.6"
  },
  "language_info": {
   "file_extension": ".jl",
   "mimetype": "application/julia",
   "name": "julia",
   "version": "1.6.3"
  }
 },
 "nbformat": 4,
 "nbformat_minor": 5
}
