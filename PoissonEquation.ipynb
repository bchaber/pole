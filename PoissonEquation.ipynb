{
 "cells": [
  {
   "cell_type": "markdown",
   "id": "b497bb58",
   "metadata": {},
   "source": [
    "#### Limitations\n",
    "So far, all solvers use uniform cell sizes and work only in 1D (however, `LinearSolver` seems to be almost ready for 2D simulations). Material properties are also assumed constant in the domain."
   ]
  },
  {
   "cell_type": "code",
   "execution_count": null,
   "id": "aging-excess",
   "metadata": {},
   "outputs": [],
   "source": [
    "using PyPlot\n",
    "using LinearAlgebra\n",
    "using Statistics\n",
    "include(\"boundary_conditions.jl\");"
   ]
  },
  {
   "cell_type": "markdown",
   "id": "37091973",
   "metadata": {},
   "source": [
    "#### Define a gradient operator\n",
    "That can differentiate an electric potential field to obtain an electric field.\n",
    "In order to improve performance, ∇ can be called with a preallocated result and\n",
    "can flip sign in the result."
   ]
  },
  {
   "cell_type": "code",
   "execution_count": null,
   "id": "rotary-brisbane",
   "metadata": {},
   "outputs": [],
   "source": [
    "using StaticArrays\n",
    "include(\"gradient.jl\")"
   ]
  },
  {
   "cell_type": "markdown",
   "id": "9a969052",
   "metadata": {},
   "source": [
    "#### In-place Periodic Solver\n",
    "Is aimed at solving a periodic Poisson equation without explicitely assembling the\n",
    "system of linear equations. As it is a singular problem, which is non-determined\n",
    "up to a constant value, the result has to be solved iteratively and some additional\n",
    "constraints have to be imposed. In this case we assume that the mean value of the\n",
    "solution is 0. We achieve this by substracting the original solution's mean value."
   ]
  },
  {
   "cell_type": "code",
   "execution_count": null,
   "id": "cardiac-estate",
   "metadata": {},
   "outputs": [],
   "source": [
    "include(\"iterative_methods.jl\")\n",
    "include(\"inplace_periodic_solver.jl\")\n",
    "\n",
    "solution(ps::InPlacePeriodicSolver) = ps.u\n",
    "gradient(ps::InPlacePeriodicSolver) = let periodic = PeriodicBC()\n",
    "    GradientOperator(ps.nx, ps.δx, (periodic, periodic))\n",
    "end"
   ]
  },
  {
   "cell_type": "markdown",
   "id": "d5ad402d",
   "metadata": {},
   "source": [
    "#### Linear Solver\n",
    "The former solver was limited by the fact that it worked only for periodic boundary conditions. The linear solver is aimed at solving a general Poisson equations with both periodic and Dirichlet boundary conditions. It forms a system of linear equations."
   ]
  },
  {
   "cell_type": "code",
   "execution_count": null,
   "id": "painful-puzzle",
   "metadata": {},
   "outputs": [],
   "source": [
    "using SparseArrays\n",
    "include(\"linear_solver.jl\")\n",
    "\n",
    "solution(ps::LinearSolver) = reshape(ps.u, ps.n...)\n",
    "gradient(ps::LinearSolver) = GradientOperator(ps.n[1], ps.δ[:], ps.bcs)"
   ]
  },
  {
   "cell_type": "markdown",
   "id": "415f60c2",
   "metadata": {},
   "source": [
    "#### Some additional solvers\n",
    "(work-in-progress)"
   ]
  },
  {
   "cell_type": "code",
   "execution_count": null,
   "id": "posted-festival",
   "metadata": {},
   "outputs": [],
   "source": [
    "struct MutligridSolver end\n",
    "struct FastFourierTransformSolver end"
   ]
  },
  {
   "cell_type": "markdown",
   "id": "9b3d4a1e",
   "metadata": {},
   "source": [
    "#### General problem parameters\n",
    "The Poisson equation is solved on a domain with $x \\in <0, 1>$ using a Finite Volume Method approach.\n",
    "The source term is defined as $f(x) = (72\\pi)^2 \\sin(4\\pi x) \\sin(2\\pi x)$."
   ]
  },
  {
   "cell_type": "code",
   "execution_count": null,
   "id": "narrative-ethnic",
   "metadata": {},
   "outputs": [],
   "source": [
    "h  = 0.02\n",
    "xf = 0.0:h:1.0\n",
    "xc = 0.5 .* xf[1:end-1] .+\n",
    "     0.5 .* xf[2:end]\n",
    "φref = @.        cos(2π * 3xc)-9cos(2π * xc)\n",
    "f(x) = 72.0π^2 * sin(2π * 2x) * sin(2π * x)\n",
    "ρ = f.(xc)\n",
    "ρ.-= mean(ρ) # substract mean value as it is a crucial condition\n",
    "\n",
    "figure(figsize=(10, 2))\n",
    "plot(xf, zero(xf), \"r.-\")\n",
    "step(xc, ρ, where=\"mid\")\n",
    "legend([\"grid\", \"ρ\"]);"
   ]
  },
  {
   "cell_type": "markdown",
   "id": "10202cc0",
   "metadata": {},
   "source": [
    "The above problem is solved using a Linear Solver. We can apply both periodic and Dirichlet boundary conditions.\n",
    "In the case of boundary conditions on both boundaries we can impose additional constraint on a mean solution value. This is the reason why we substract the mean solution value after calculating the electric potential."
   ]
  },
  {
   "cell_type": "code",
   "execution_count": null,
   "id": "cleared-bristol",
   "metadata": {},
   "outputs": [],
   "source": [
    "bc = PeriodicBC()\n",
    "ps = LinearSolver(xf, left=bc, right=bc)\n",
    "@time it = solve!(ps, ρ)\n",
    "φ  = solution(ps)\n",
    "φ.-= mean(φ) # substract mean value when both boundary conditions are periodic\n",
    "\n",
    "figure(figsize=(10, 2))\n",
    "title(\"Solved (acc=$(norm(φ - φref)))\")\n",
    "plot(xf, zero(xf), \"r.-\")\n",
    "step(xc, φ, where=\"mid\")\n",
    "plot(xc, φref, \".\")\n",
    "legend([\"grid\", \"φ\", \"φref\"]);"
   ]
  },
  {
   "cell_type": "markdown",
   "id": "7efe7fb1",
   "metadata": {},
   "source": [
    "Once again the same Poisson equation is being solved with periodic boundary conditions on both boundaries. In this case the `solve!` procedure substract the mean value in the end."
   ]
  },
  {
   "cell_type": "code",
   "execution_count": null,
   "id": "41186dff",
   "metadata": {},
   "outputs": [],
   "source": [
    "ps = InPlacePeriodicSolver(xf; maxiter=1000)\n",
    "@time it = solve!(ps, ρ)\n",
    "φ  = solution(ps)\n",
    "φ.-= mean(φ) # substract mean value when both boundary conditions are periodic\n",
    "\n",
    "figure(figsize=(10, 2))\n",
    "title(\"Solved after $it iterations (acc=$(norm(φ - φref)))\")\n",
    "plot(xf, zero(xf), \"r.-\")\n",
    "step(xc, φ, where=\"mid\")\n",
    "plot(xc, φref, \".\")\n",
    "legend([\"grid\", \"φ\", \"φref\"]);"
   ]
  },
  {
   "cell_type": "markdown",
   "id": "fbe4555c",
   "metadata": {},
   "source": [
    "Now we can also differentiate the electric potential and obtain the electric field which uses the information about boundaries."
   ]
  },
  {
   "cell_type": "code",
   "execution_count": null,
   "id": "2bdef8ec",
   "metadata": {},
   "outputs": [],
   "source": [
    "using BenchmarkTools\n",
    "E = zeros(SVector{3, Float64}, length(xf));\n",
    "∇ = gradient(ps)\n",
    "@btime ∇($φ; result=$E)\n",
    "\n",
    "figure(figsize=(10, 3))\n",
    "plot(xf, zero(xf), \"r.-\")\n",
    "plot(xf, 0.05E, \"k-\")\n",
    "step(xc, φ, where=\"mid\")\n",
    "legend([\"grid\", \"E\", \"φ\"]);"
   ]
  },
  {
   "cell_type": "markdown",
   "id": "ancient-comparative",
   "metadata": {},
   "source": [
    "#### Compare convergence of different methods\n",
    "Comparison between iterative solvers both from Julia's IterativeSolvers.jl and our own."
   ]
  },
  {
   "cell_type": "code",
   "execution_count": null,
   "id": "b73faa70",
   "metadata": {},
   "outputs": [],
   "source": [
    "import IterativeSolvers\n",
    "\n",
    "ps = LinearSolver(xf, left=bc, right=bc)\n",
    "nothing"
   ]
  },
  {
   "cell_type": "markdown",
   "id": "93b0a5a0",
   "metadata": {},
   "source": [
    "It seems that GMRES has a good convergence on the given problem"
   ]
  },
  {
   "cell_type": "code",
   "execution_count": null,
   "id": "sticky-compromise",
   "metadata": {},
   "outputs": [],
   "source": [
    "x = randn(length(ps.u))\n",
    "rhs = ps.b .- ρ .* h .^ 2\n",
    "x, ch = IterativeSolvers.gmres!(x, ps.A, rhs, log=true)\n",
    "resnorm = ch.data[:resnorm]\n",
    "\n",
    "x = randn(length(ps.u))\n",
    "@time IterativeSolvers.gmres!(x, ps.A, rhs)\n",
    "\n",
    "figure(figsize=(10, 2))\n",
    "title(\"GMRES from IterativeSolvers.jl\")\n",
    "xlabel(\"Iteration number\")\n",
    "ylabel(\"Residual norm\")\n",
    "semilogy(resnorm, linewidth=2, linestyle=\"-\", color=\"k\");"
   ]
  },
  {
   "cell_type": "code",
   "execution_count": null,
   "id": "1762dc1b",
   "metadata": {},
   "outputs": [],
   "source": [
    "ps = LinearSolver(xf, left=DirichletBC(), right=DirichletBC())\n",
    "@time it = solve!(ps, ρ)\n",
    "φ  = solution(ps)\n",
    "\n",
    "figure(figsize=(10, 2))\n",
    "plot(xf, zero(xf), \"r.-\")\n",
    "step(xc, φ, where=\"mid\")\n",
    "legend([\"grid\", \"φ\", \"φref\"]);"
   ]
  },
  {
   "cell_type": "raw",
   "id": "97385f6f",
   "metadata": {},
   "source": [
    "function solve!(ps::LinearSolver, ρ)\n",
    "    rhs = ps.b .- ρ .* h .^ 2 # extra allocation\n",
    "    ps.u .= ps. A \\ rhs\n",
    "    return nothing\n",
    "end"
   ]
  },
  {
   "cell_type": "code",
   "execution_count": null,
   "id": "e5598373",
   "metadata": {},
   "outputs": [],
   "source": [
    "ps = LinearSolver(xf, left=DirichletBC(), right=DirichletBC())\n",
    "@time it = solve!(ps, ρ)\n",
    "φ  = solution(ps)\n",
    "\n",
    "figure(figsize=(10, 2))\n",
    "plot(xf, zero(xf), \"r.-\")\n",
    "step(xc, φ, where=\"mid\")\n",
    "legend([\"grid\", \"φ\", \"φref\"]);"
   ]
  },
  {
   "cell_type": "markdown",
   "id": "ecf522b3",
   "metadata": {},
   "source": [
    "### Two-dimensional Poisson Solver\n",
    "We will start with a simple example from W. Briggs, V. Henson, and S. McCormick, _Implementation_ in _A multigrid tutorial_, SIAM, 2000, ch. 4, pp. 64-68."
   ]
  },
  {
   "cell_type": "code",
   "execution_count": null,
   "id": "fa9fdd22",
   "metadata": {},
   "outputs": [],
   "source": [
    "h  = 0.02\n",
    "xf = 0.0:h:1.0\n",
    "yf = 0.0:h:1.0\n",
    "xc = 0.5 .* xf[1:end-1] .+\n",
    "     0.5 .* xf[2:end]\n",
    "yc = 0.5 .* yf[1:end-1] .+\n",
    "     0.5 .* yf[2:end]\n",
    "nx = length(xc)\n",
    "ny = length(yc)\n",
    "xx = repeat(xc,   1, ny)\n",
    "yy = repeat(yc', nx,  1)\n",
    "f(x, y) = -2((1 - 6x^2) * y^2 * (1 - y^2) +\n",
    "             (1 - 6y^2) * x^2 * (1 - x^2))\n",
    "ρ = f.(xx, yy)\n",
    "φref = @. (xx^2 - xx^4) * (yy^4 - yy^2)\n",
    "\n",
    "figure(figsize=(4, 4))\n",
    "imshow(ρ')\n",
    "colorbar()"
   ]
  },
  {
   "cell_type": "code",
   "execution_count": null,
   "id": "7385b2e7",
   "metadata": {},
   "outputs": [],
   "source": [
    "bc = DirichletBC()\n",
    "ps = LinearSolver(xf, yf, left=bc, right=bc, upper=bc, lower=bc)\n",
    "@time it = solve!(ps, reshape(ρ,:))\n",
    "φ  = solution(ps)\n",
    "title(\"Solved (acc=$(norm(φ - φref)))\")\n",
    "imshow(φ')\n",
    "colorbar();"
   ]
  },
  {
   "cell_type": "markdown",
   "id": "f8c0cdfe",
   "metadata": {},
   "source": [
    "### Let's build an electron gun!\n",
    "After that, we will check if we can prescribe an electric potential inside the computational domain."
   ]
  },
  {
   "cell_type": "code",
   "execution_count": null,
   "id": "ff41a852",
   "metadata": {},
   "outputs": [],
   "source": [
    "h  = 0.01\n",
    "xf = 0.0:h:2.0\n",
    "yf = 0.0:h:0.2\n",
    "xc = 0.5 .* xf[1:end-1] .+\n",
    "     0.5 .* xf[2:end]\n",
    "yc = 0.5 .* yf[1:end-1] .+\n",
    "     0.5 .* yf[2:end]\n",
    "nx = length(xc)\n",
    "ny = length(yc)\n",
    "xx = repeat(xc,   1, ny)\n",
    "yy = repeat(yc', nx,  1)\n",
    "\n",
    "ρ = zeros(nx, ny)\n",
    "dbc = DirichletBC(0.)\n",
    "hv  = DirichletBC(1000.)\n",
    "bc = NeumannBC()\n",
    "ps = LinearSolver(xf, yf, left=bc, right=bc, upper=bc, lower=bc)\n",
    "@inbounds for i=2:19, j=10\n",
    "    reset!(ps.A, ps.b, ps.dof[i, j])\n",
    "    apply!(ps.A, hv,  ps.dof[i, j], ps.dof[i, j-1], ps.dof[i, j+1])\n",
    "    apply!(ps.b, hv,  ps.dof[i, j])\n",
    "end\n",
    "@inbounds for i=2:34, j=15\n",
    "    reset!(ps.A, ps.b, ps.dof[i, j])\n",
    "    apply!(ps.A, dbc, ps.dof[i, j], ps.dof[i, j+1], ps.dof[i, j-1])\n",
    "    apply!(ps.b, dbc, ps.dof[i, j])\n",
    "end\n",
    "@inbounds for i=20, j=7:10\n",
    "    reset!(ps.A, ps.b, ps.dof[i, j])\n",
    "    apply!(ps.A, hv,  ps.dof[i, j], ps.dof[i-1, j], ps.dof[i+1, j])\n",
    "    apply!(ps.b, hv,  ps.dof[i, j])\n",
    "end\n",
    "@inbounds for i=35, j=5:15\n",
    "    reset!(ps.A, ps.b, ps.dof[i, j])\n",
    "    apply!(ps.A, dbc, ps.dof[i, j], ps.dof[i+1, j], ps.dof[i-1, j])\n",
    "    apply!(ps.b, dbc, ps.dof[i, j])\n",
    "end\n",
    "@time it = solve!(ps, reshape(ρ,:))\n",
    "φ  = solution(ps)\n",
    "imshow(φ', cmap=\"plasma\"); colorbar(orientation=\"horizontal\")\n",
    "contour(φ', colors=\"black\", linewidths=0.8)\n",
    "xlim((0, 40))\n",
    "ylim((0, 15))\n",
    "title(\"Electric potential\")\n",
    "nothing"
   ]
  },
  {
   "cell_type": "code",
   "execution_count": null,
   "id": "53cedfd9",
   "metadata": {},
   "outputs": [],
   "source": [
    "include(\"gradient.jl\")\n",
    "E = zeros(SVector{3, Float64}, length(xf), length(yf));\n",
    "∇ = GradientOperator2(ps.n[1], ps.n[2], ps.δ[1], ps.δ[2], ps.bcs)\n",
    "∇(φ; result=E);"
   ]
  },
  {
   "cell_type": "code",
   "execution_count": null,
   "id": "c89ebc2f",
   "metadata": {},
   "outputs": [],
   "source": [
    "Ex = [-e[1] / norm(e) for e in E]\n",
    "Ey = [-e[2] / norm(e) for e in E]\n",
    "Em = [sqrt(e[1]^2 + e[2]^2) for e in E]\n",
    "imshow((Em'), cmap=\"plasma\"); colorbar(orientation=\"horizontal\")\n",
    "quiver(Ex', Ey', color=\"black\", pivot=\"middle\", scale=50)\n",
    "xlim((0, 40))\n",
    "ylim((0, 15))\n",
    "title(\"Electric field\")\n",
    "nothing"
   ]
  },
  {
   "cell_type": "code",
   "execution_count": null,
   "id": "1aa3b2c9",
   "metadata": {},
   "outputs": [],
   "source": []
  }
 ],
 "metadata": {
  "kernelspec": {
   "display_name": "Julia 1.7.0",
   "language": "julia",
   "name": "julia-1.7"
  },
  "language_info": {
   "file_extension": ".jl",
   "mimetype": "application/julia",
   "name": "julia",
   "version": "1.7.0"
  }
 },
 "nbformat": 4,
 "nbformat_minor": 5
}
