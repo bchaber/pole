{
 "cells": [
  {
   "cell_type": "code",
   "execution_count": 1,
   "id": "aging-excess",
   "metadata": {},
   "outputs": [],
   "source": [
    "using PyPlot\n",
    "using LinearAlgebra\n",
    "using Statistics\n",
    "include(\"boundary_conditions.jl\");"
   ]
  },
  {
   "cell_type": "code",
   "execution_count": 2,
   "id": "rotary-brisbane",
   "metadata": {},
   "outputs": [],
   "source": [
    "struct GradientOperator\n",
    "    nx :: Int64\n",
    "    δx :: Vector{Float64}\n",
    "    \n",
    "    bcs :: Dict{Symbol, BoundaryCondition}\n",
    "end\n",
    "\n",
    "calculate_gradient!(dudx, u, δx, n, boundary, bc::PeriodicBC) = begin\n",
    "    if boundary == :left  @inbounds dudx[1]   = @views (u[1] - u[n]) / (δx[1] + δx[n+1]) end\n",
    "    if boundary == :right @inbounds dudx[n+1] = @views (u[1] - u[n]) / (δx[1] + δx[n+1]) end\n",
    "end\n",
    "\n",
    "calculate_gradient!(dudx, u, δx, n, boundary, bc::DirichletBC) = begin\n",
    "    if boundary == :left  @inbounds dudx[1]   = @views (u[1] - bc.value)  / (δx[1]) end\n",
    "    if boundary == :right @inbounds dudx[n+1] = @views (bc.value - u[n]) / (δx[n+1]) end\n",
    "end\n",
    "\n",
    "calculate_gradient!(dudx, u, δx, n) = @inbounds dudx[2:n] .= @views (u[2:n] .- u[1:n-1]) ./ δx[2:n]\n",
    "\n",
    "(∇::GradientOperator)(u; result=nothing, reverse=false) = begin\n",
    "    δx = ∇.δx\n",
    "    nx = ∇.nx\n",
    "    \n",
    "    dudx = isnothing(result) ? zeros(nx + 1) : result\n",
    "    \n",
    "    calculate_gradient!(dudx, u, ∇.δx, ∇.nx)\n",
    "    for boundary in (:left, :right)\n",
    "        calculate_gradient!(dudx, u, ∇.δx, ∇.nx, boundary, ∇.bcs[boundary])\n",
    "    end\n",
    "    if reverse dudx .*= -1.0 end\n",
    "    return dudx\n",
    "end"
   ]
  },
  {
   "cell_type": "code",
   "execution_count": 3,
   "id": "cardiac-estate",
   "metadata": {},
   "outputs": [
    {
     "data": {
      "text/plain": [
       "gradient (generic function with 1 method)"
      ]
     },
     "execution_count": 3,
     "metadata": {},
     "output_type": "execute_result"
    }
   ],
   "source": [
    "include(\"inplace_periodic_solver.jl\")\n",
    "\n",
    "apply!(::InPlacePeriodicSolver, ::PeriodicBC) = nothing\n",
    "solution(ps::InPlacePeriodicSolver) = ps.u\n",
    "gradient(ps::InPlacePeriodicSolver) = GradientOperator(ps.nx, ps.δx,\n",
    "    Dict(:left => PeriodicBC(), :right => PeriodicBC()))"
   ]
  },
  {
   "cell_type": "code",
   "execution_count": 4,
   "id": "oriental-demonstration",
   "metadata": {},
   "outputs": [
    {
     "data": {
      "text/plain": [
       "solve! (generic function with 1 method)"
      ]
     },
     "execution_count": 4,
     "metadata": {},
     "output_type": "execute_result"
    }
   ],
   "source": [
    "include(\"iterative_methods.jl\")\n",
    "\n",
    "function solve!(ps::InPlacePeriodicSolver, rhs)\n",
    "    b = rhs .* ps.Δx .^ 2 # assembled rhs\n",
    "    ps.u .= randn(ps.nx)\n",
    "    jacobi(ps.u, b; K=ps.maxiter, ϵ=ps.tol)\n",
    "end"
   ]
  },
  {
   "cell_type": "code",
   "execution_count": 5,
   "id": "painful-puzzle",
   "metadata": {},
   "outputs": [
    {
     "data": {
      "text/plain": [
       "gradient (generic function with 2 methods)"
      ]
     },
     "execution_count": 5,
     "metadata": {},
     "output_type": "execute_result"
    }
   ],
   "source": [
    "using SparseArrays\n",
    "include(\"linear_solver.jl\")\n",
    "\n",
    "solution(ps::LinearSolver) = ps.u\n",
    "gradient(ps::LinearSolver) = GradientOperator(ps.nx, ps.δx, ps.bcs)"
   ]
  },
  {
   "cell_type": "code",
   "execution_count": 6,
   "id": "white-arabic",
   "metadata": {},
   "outputs": [
    {
     "data": {
      "text/plain": [
       "solve! (generic function with 2 methods)"
      ]
     },
     "execution_count": 6,
     "metadata": {},
     "output_type": "execute_result"
    }
   ],
   "source": [
    "import IterativeSolvers: cg!\n",
    "\n",
    "isperiodic(bc::PeriodicBC) = true\n",
    "isperiodic(bc) = false\n",
    "\n",
    "function solve!(ps::LinearSolver, rhs)\n",
    "    b = ps.b .+ rhs .* ps.Δx .^ 2 # assembled rhs\n",
    "    ps.u  .= rand(ps.nx)\n",
    "    cg!(ps.u, ps.A, b)\n",
    "    if isperiodic(ps.bcs[:left]) &&\n",
    "       isperiodic(ps.bcs[:right])\n",
    "        ps.u .-= mean(ps.u)\n",
    "    end\n",
    "    return NaN\n",
    "end"
   ]
  },
  {
   "cell_type": "code",
   "execution_count": 7,
   "id": "posted-festival",
   "metadata": {},
   "outputs": [],
   "source": [
    "struct MutligridSolver end\n",
    "struct FastFourierTransformSolver end"
   ]
  },
  {
   "cell_type": "code",
   "execution_count": 8,
   "id": "narrative-ethnic",
   "metadata": {},
   "outputs": [],
   "source": [
    "xf = 0.0:0.01:1.0\n",
    "dbc = DirichletBC(π)\n",
    "bc = PeriodicBC()\n",
    "ps = LinearSolver(xf)\n",
    "xc = 0.5 .* xf[1:end-1] .+\n",
    "     0.5 .* xf[2:end]\n",
    "φref = -sin.(2π * 2xc)\n",
    "\n",
    "f(x) = (2π * 2)^2 * sin(2π * 2x)\n",
    "ρ = f.(xc)\n",
    "nothing"
   ]
  },
  {
   "cell_type": "code",
   "execution_count": 9,
   "id": "cleared-bristol",
   "metadata": {},
   "outputs": [
    {
     "data": {
      "image/png": "[encoded data removed]",
      "text/plain": [
       "Figure(PyObject <Figure size 1000x200 with 1 Axes>)"
      ]
     },
     "metadata": {},
     "output_type": "display_data"
    }
   ],
   "source": [
    "ps.bcs[:left]  = dbc\n",
    "ps.bcs[:right] = bc\n",
    "apply!(ps, ps.bcs[:left],  :left)\n",
    "apply!(ps, ps.bcs[:right], :right)\n",
    "\n",
    "it = solve!(ps, -ρ)\n",
    "φ  = solution(ps)\n",
    "figure(figsize=(10, 2))\n",
    "title(\"Solved after $it iterations (acc=$(norm(φ - φref)))\")\n",
    "plot(xf, zero(xf), \"r.-\")\n",
    "step(xc, φ, where=\"mid\")\n",
    "plot(xc, φref, \".\")\n",
    "legend([\"grid\", \"φ\", \"φref\"]);"
   ]
  },
  {
   "cell_type": "code",
   "execution_count": 10,
   "id": "dirty-palace",
   "metadata": {
    "scrolled": true
   },
   "outputs": [
    {
     "data": {
      "image/png": "[encoded data removed]",
      "text/plain": [
       "Figure(PyObject <Figure size 1000x300 with 1 Axes>)"
      ]
     },
     "metadata": {},
     "output_type": "display_data"
    }
   ],
   "source": [
    "∇ = gradient(ps)\n",
    "E = ∇(φ)\n",
    "figure(figsize=(10, 3))\n",
    "plot(xf, zero(xf), \"r.-\")\n",
    "plot(xf, 0.05E, \"k-\")\n",
    "step(xc, φ, where=\"mid\")\n",
    "legend([\"grid\", \"E\", \"φ\"]);"
   ]
  }
 ],
 "metadata": {
  "kernelspec": {
   "display_name": "Julia 1.6.3",
   "language": "julia",
   "name": "julia-1.6"
  },
  "language_info": {
   "file_extension": ".jl",
   "mimetype": "application/julia",
   "name": "julia",
   "version": "1.6.3"
  }
 },
 "nbformat": 4,
 "nbformat_minor": 5
}
